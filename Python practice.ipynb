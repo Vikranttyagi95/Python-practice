{
 "cells": [
  {
   "cell_type": "markdown",
   "metadata": {},
   "source": [
    "## Problem-1\n",
    "*Write a program which will find all such numbers which are divisible by 7 but are not a multiple of 5, between 2000 and 3200 (both included).The numbers obtained should be printed in a comma-separated sequence on a single line.*"
   ]
  },
  {
   "cell_type": "code",
   "execution_count": 4,
   "metadata": {},
   "outputs": [
    {
     "name": "stdout",
     "output_type": "stream",
     "text": [
      "2002,2009,2016,2023,2037,2044,2051,2058,2072,2079,2086,2093,2107,2114,2121,2128,2142,2149,2156,2163,2177,2184,2191,2198,2212,2219,2226,2233,2247,2254,2261,2268,2282,2289,2296,2303,2317,2324,2331,2338,2352,2359,2366,2373,2387,2394,2401,2408,2422,2429,2436,2443,2457,2464,2471,2478,2492,2499,2506,2513,2527,2534,2541,2548,2562,2569,2576,2583,2597,2604,2611,2618,2632,2639,2646,2653,2667,2674,2681,2688,2702,2709,2716,2723,2737,2744,2751,2758,2772,2779,2786,2793,2807,2814,2821,2828,2842,2849,2856,2863,2877,2884,2891,2898,2912,2919,2926,2933,2947,2954,2961,2968,2982,2989,2996,3003,3017,3024,3031,3038,3052,3059,3066,3073,3087,3094,3101,3108,3122,3129,3136,3143,3157,3164,3171,3178,3192,3199\n"
     ]
    }
   ],
   "source": [
    "for num in range(2000,3201):\n",
    "    if num % 7 == 0 and num % 5 != 0:\n",
    "        print(num, end=\",\")\n",
    "print(\"\\b\")"
   ]
  },
  {
   "cell_type": "markdown",
   "metadata": {},
   "source": [
    "## Problem-2\n",
    "*Write a program which can compute the factorial of a given numbers.The results should be printed in a comma-separated sequence on a single line.Suppose the following input is supplied to the program: 8 Then, the output should be:40320*"
   ]
  },
  {
   "cell_type": "code",
   "execution_count": 16,
   "metadata": {},
   "outputs": [
    {
     "name": "stdout",
     "output_type": "stream",
     "text": [
      "40320\n"
     ]
    }
   ],
   "source": [
    "# Iterative Solution\n",
    "\n",
    "def factorial_1(num):\n",
    "    result = 1\n",
    "    \n",
    "    if num in [0,1]:\n",
    "        return 1\n",
    "    else:\n",
    "        for i in range(1, num+1):\n",
    "            result = result*i\n",
    "        \n",
    "        return result\n",
    "\n",
    "# Recursive Solution\n",
    "\n",
    "def factorial_2(num):\n",
    "    if num in [0,1]:\n",
    "        return 1\n",
    "    else:\n",
    "        return num*factorial_2(num-1)\n",
    "\n",
    "print(factorial_2(8))    "
   ]
  },
  {
   "cell_type": "markdown",
   "metadata": {},
   "source": [
    "## Problem-3\n",
    "*With a given integral number n, write a program to generate a dictionary that contains (i, i x i) such that is an integral number between 1 and n (both included). and then the program should print the dictionary.Suppose the following input is supplied to the program: 8*\n",
    "\n",
    "*Then, the output should be:*\n",
    "`{1: 1, 2: 4, 3: 9, 4: 16, 5: 25, 6: 36, 7: 49, 8: 64}`"
   ]
  },
  {
   "cell_type": "code",
   "execution_count": 15,
   "metadata": {},
   "outputs": [
    {
     "name": "stdout",
     "output_type": "stream",
     "text": [
      "{1: 1, 2: 4, 3: 9, 4: 16, 5: 25, 6: 36, 7: 49, 8: 64}\n",
      "{1: 1, 2: 4, 3: 9, 4: 16, 5: 25, 6: 36, 7: 49, 8: 64}\n"
     ]
    }
   ],
   "source": [
    "def generate_dict(num):\n",
    "    result = dict()\n",
    "    for n in range(1, num+1):\n",
    "        result[n] = n*n\n",
    "    \n",
    "    return result\n",
    "\n",
    "# Using dict comprehension\n",
    "print({n: n*n for n in range(1, 8+1)})\n",
    "\n",
    "print(generate_dict(8))"
   ]
  },
  {
   "cell_type": "markdown",
   "metadata": {},
   "source": [
    "## Problem-4\n",
    "*Write a program which accepts a sequence of comma-separated numbers from console and generate a list and a tuple which contains every number.Suppose the following input is supplied to the program:*"
   ]
  },
  {
   "cell_type": "code",
   "execution_count": 8,
   "metadata": {},
   "outputs": [
    {
     "name": "stdin",
     "output_type": "stream",
     "text": [
      "Please provide the no:  3,1,5,8,9,10\n"
     ]
    },
    {
     "name": "stdout",
     "output_type": "stream",
     "text": [
      "['3', '1', '5', '8', '9', '10']\n",
      "('3', '1', '5', '8', '9', '10')\n"
     ]
    }
   ],
   "source": [
    "nums = input(\"Please provide the no: \").split(',')\n",
    "print(nums)\n",
    "print(tuple(nums))"
   ]
  },
  {
   "cell_type": "markdown",
   "metadata": {},
   "source": [
    "## Problem -5\n",
    "*Define a class which has at least two methods:*\n",
    "- getString: to get a string from console input\n",
    "- printString: to print the string in upper case\n",
    "*Also please include simple test function to test the class methods.*"
   ]
  },
  {
   "cell_type": "code",
   "execution_count": 11,
   "metadata": {},
   "outputs": [
    {
     "name": "stdin",
     "output_type": "stream",
     "text": [
      "Please input a string:  vikrant\n"
     ]
    },
    {
     "name": "stdout",
     "output_type": "stream",
     "text": [
      "Supplied string is: VIKRANT\n"
     ]
    }
   ],
   "source": [
    "class StringInput():\n",
    "    \n",
    "    def getString(self):\n",
    "        input_str = input(\"Please input a string: \")\n",
    "        self.string = input_str\n",
    "        \n",
    "    def printString(self):\n",
    "        print(\"Supplied string is: \" +self.string.upper())\n",
    "    \n",
    "\n",
    "obj = StringInput()\n",
    "obj.getString()\n",
    "obj.printString()"
   ]
  },
  {
   "cell_type": "markdown",
   "metadata": {},
   "source": [
    "## Problem-6\n",
    "*Write a program that calculates and prints the value according to the given formula:*\n",
    "\n",
    "- Q = Square root of [(2 _ C _ D)/H]\n",
    "\n",
    "*Following are the fixed values of C and H:*\n",
    "\n",
    "- C is 50. H is 30.\n",
    "*D is the variable whose values should be input to your program in a comma-separated sequence.For example Let us assume the following comma separated input sequence is given to the program:*"
   ]
  },
  {
   "cell_type": "code",
   "execution_count": 26,
   "metadata": {},
   "outputs": [
    {
     "name": "stdin",
     "output_type": "stream",
     "text": [
      "Please enter the values of D:  8,2,10\n"
     ]
    },
    {
     "name": "stdout",
     "output_type": "stream",
     "text": [
      "5.163977794943222,2.581988897471611,5.773502691896258\n"
     ]
    }
   ],
   "source": [
    "import math\n",
    "\n",
    "D = input(\"Please enter the values of D: \").split(',')\n",
    "\n",
    "def my_func(D):\n",
    "    C = 50\n",
    "    H = 30\n",
    "    D = int(D)\n",
    "    cal1 = (2*C*D)/H\n",
    "    result = math.sqrt(cal1)\n",
    "\n",
    "    return result\n",
    "\n",
    "D = [my_func(value) for value in D]\n",
    "D = [str(value) for value in D]\n",
    "\n",
    "print(\",\".join(D))    "
   ]
  },
  {
   "cell_type": "markdown",
   "metadata": {},
   "source": [
    "## Problem - 7\n",
    "*_Write a program which takes 2 digits, X,Y as input and generates a 2-dimensional array. The element value in the i-th row and j-th column of the array should be i _ j.*\n",
    "\n",
    "*Note: i=0,1.., X-1; j=0,1,¡­Y-1. Suppose the following inputs are given to the program: 3,5*\n",
    "\n",
    "*Then, the output of the program should be: [[0, 0, 0, 0, 0], [0, 1, 2, 3, 4], [0, 2, 4, 6, 8]]*"
   ]
  },
  {
   "cell_type": "code",
   "execution_count": 32,
   "metadata": {},
   "outputs": [
    {
     "name": "stdout",
     "output_type": "stream",
     "text": [
      "[[0, 0, 0, 0, 0], [0, 1, 2, 3, 4], [0, 2, 4, 6, 8]]\n"
     ]
    }
   ],
   "source": [
    "def array(x,y):\n",
    "    return [[i*j for j in range(5)] for i in range(3)]\n",
    "\n",
    "print(array(3,5))\n"
   ]
  },
  {
   "cell_type": "markdown",
   "metadata": {},
   "source": [
    "## Problem - 8\n",
    "*Write a program that accepts a comma separated sequence of words as input and prints the words in a comma-separated sequence after sorting them alphabetically.*\n",
    "\n",
    "*Suppose the following input is supplied to the program:*\n",
    "- without,hello,bag,world\n",
    "*Then, the output should be:*\n",
    "- bag,hello,without,world"
   ]
  },
  {
   "cell_type": "code",
   "execution_count": 38,
   "metadata": {},
   "outputs": [
    {
     "name": "stdin",
     "output_type": "stream",
     "text": [
      "Please input letters:  without,bag,hello,world\n"
     ]
    },
    {
     "name": "stdout",
     "output_type": "stream",
     "text": [
      "['without', 'bag', 'hello', 'world']\n",
      "bag,hello,without,world\n"
     ]
    }
   ],
   "source": [
    "letters = input(\"Please input letters: \").split(\",\")\n",
    "print(letters)\n",
    "print(\",\".join(sorted(letters)))"
   ]
  },
  {
   "cell_type": "markdown",
   "metadata": {},
   "source": [
    "## Problem - 9\n",
    "*Write a program that accepts sequence of lines as input and prints the lines after making all characters in the sentence capitalized.*\n",
    "\n",
    "*Suppose the following input is supplied to the program:*\n",
    "\n",
    "Hello world\n",
    "Practice makes perfect\n",
    "\n",
    "*Then, the output should be:*\n",
    "\n",
    "HELLO WORLD\n",
    "PRACTICE MAKES PERFECT"
   ]
  },
  {
   "cell_type": "code",
   "execution_count": 43,
   "metadata": {},
   "outputs": [
    {
     "name": "stdin",
     "output_type": "stream",
     "text": [
      " hello\n",
      " bye bye\n",
      " \n"
     ]
    },
    {
     "name": "stdout",
     "output_type": "stream",
     "text": [
      "HELLO\n",
      "BYE BYE\n"
     ]
    }
   ],
   "source": [
    "lst = []\n",
    "\n",
    "while True:\n",
    "    s = input()\n",
    "    if not s:\n",
    "        break\n",
    "    else:\n",
    "        lst.append(s.upper())\n",
    "\n",
    "for item in lst:\n",
    "    print(item)"
   ]
  },
  {
   "cell_type": "markdown",
   "metadata": {},
   "source": [
    "## Problem - 10 \n",
    "*Write a program that accepts a sequence of whitespace separated words as input and prints the words after removing all duplicate words and sorting them alphanumerically.*\n",
    "\n",
    "*Suppose the following input is supplied to the program:*\n",
    "- hello world and practice makes perfect and hello world again\n",
    "*Then, the output should be:*\n",
    "- again and hello makes perfect practice world"
   ]
  },
  {
   "cell_type": "code",
   "execution_count": 13,
   "metadata": {},
   "outputs": [
    {
     "name": "stdin",
     "output_type": "stream",
     "text": [
      " hello world and practice makes perfect and hello world again\n"
     ]
    },
    {
     "name": "stdout",
     "output_type": "stream",
     "text": [
      "again and hello makes perfect practice world\n",
      "again and hello makes perfect practice world\n"
     ]
    }
   ],
   "source": [
    "# solution using set\n",
    "\n",
    "words = input().split()\n",
    "\n",
    "unique_words = list(set(words))\n",
    "\n",
    "result = [word for word in sorted(unique_words)]\n",
    "print(\" \".join(result))\n",
    "\n",
    "# solution using just list\n",
    "\n",
    "result = []\n",
    "for word in words:\n",
    "    if word not in result:\n",
    "        result.append(word)\n",
    "print(\" \".join(sorted(result)))"
   ]
  },
  {
   "cell_type": "markdown",
   "metadata": {},
   "source": [
    "## Problem - 11\n",
    "*Write a program which accepts a sequence of comma separated 4 digit binary numbers as its input and then check whether they are divisible by 5 or not. The numbers that are divisible by 5 are to be printed in a comma separated sequence.*\n",
    "- Example:\n",
    "`0100,0011,1010,1001`\n",
    "- Then the output should be:\n",
    "`1010`"
   ]
  },
  {
   "cell_type": "code",
   "execution_count": 18,
   "metadata": {},
   "outputs": [
    {
     "name": "stdin",
     "output_type": "stream",
     "text": [
      " 0100,0011,1010,1001\n"
     ]
    },
    {
     "name": "stdout",
     "output_type": "stream",
     "text": [
      "1010\n"
     ]
    }
   ],
   "source": [
    "bin_nums = input().split(',')\n",
    "\n",
    "decimals = []\n",
    "for num in bin_nums:\n",
    "    decimal = int(num,2)\n",
    "    if decimal % 5 == 0:\n",
    "        print(num)\n"
   ]
  },
  {
   "cell_type": "markdown",
   "metadata": {},
   "source": [
    "## Problem - 12\n",
    "*Write a program, which will find all such numbers between 1000 and 3000 (both included) such that each digit of the number is an even number.The numbers obtained should be printed in a comma-separated sequence on a single line.*\n"
   ]
  },
  {
   "cell_type": "code",
   "execution_count": 33,
   "metadata": {},
   "outputs": [
    {
     "name": "stdout",
     "output_type": "stream",
     "text": [
      "2000,2002,2004,2006,2008,2020,2022,2024,2026,2028,2040,2042,2044,2046,2048,2060,2062,2064,2066,2068,2080,2082,2084,2086,2088,2200,2202,2204,2206,2208,2220,2222,2224,2226,2228,2240,2242,2244,2246,2248,2260,2262,2264,2266,2268,2280,2282,2284,2286,2288,2400,2402,2404,2406,2408,2420,2422,2424,2426,2428,2440,2442,2444,2446,2448,2460,2462,2464,2466,2468,2480,2482,2484,2486,2488,2600,2602,2604,2606,2608,2620,2622,2624,2626,2628,2640,2642,2644,2646,2648,2660,2662,2664,2666,2668,2680,2682,2684,2686,2688,2800,2802,2804,2806,2808,2820,2822,2824,2826,2828,2840,2842,2844,2846,2848,2860,2862,2864,2866,2868,2880,2882,2884,2886,2888,2000,2002,2004,2006,2008,2020,2022,2024,2026,2028,2040,2042,2044,2046,2048,2060,2062,2064,2066,2068,2080,2082,2084,2086,2088,2200,2202,2204,2206,2208,2220,2222,2224,2226,2228,2240,2242,2244,2246,2248,2260,2262,2264,2266,2268,2280,2282,2284,2286,2288,2400,2402,2404,2406,2408,2420,2422,2424,2426,2428,2440,2442,2444,2446,2448,2460,2462,2464,2466,2468,2480,2482,2484,2486,2488,2600,2602,2604,2606,2608,2620,2622,2624,2626,2628,2640,2642,2644,2646,2648,2660,2662,2664,2666,2668,2680,2682,2684,2686,2688,2800,2802,2804,2806,2808,2820,2822,2824,2826,2828,2840,2842,2844,2846,2848,2860,2862,2864,2866,2868,2880,2882,2884,2886,2888\n"
     ]
    }
   ],
   "source": [
    "def digit_extractor(num):\n",
    "    digits = []\n",
    "    \n",
    "    while num >= 10:\n",
    "        digit = num % 10\n",
    "        num = num // 10\n",
    "        digits.append(digit)\n",
    "        \n",
    "    digits.append(num)\n",
    "    return list(reversed(digits))\n",
    "\n",
    "for num in range(1000,3001):\n",
    "    digits = digit_extractor(num)\n",
    "\n",
    "    temp_list = []\n",
    "    for digit in digits:\n",
    "        if digit % 2 == 0:\n",
    "            temp_list.append(digit)\n",
    "    \n",
    "    if len(temp_list) == len(digits):\n",
    "        print(num, end=\",\")\n",
    "\n",
    "# A pythonic solution\n",
    "print(','.join([str(num) for num in range(1000, 3001) if all(map(lambda num: int(num) % 2 == 0, str(num)))]))"
   ]
  },
  {
   "cell_type": "markdown",
   "metadata": {},
   "source": [
    "## Problem - 13\n",
    "*Write a program that accepts a sentence and calculate the number of letters and digits.*\n",
    "\n",
    "*Suppose the following input is supplied to the program:*\n",
    "`hello world! 123`\n",
    "*Then, the output should be:*\n",
    "`LETTERS 10\n",
    "DIGITS 3`"
   ]
  },
  {
   "cell_type": "code",
   "execution_count": 6,
   "metadata": {},
   "outputs": [
    {
     "name": "stdin",
     "output_type": "stream",
     "text": [
      "Please enter the sentence:  hello world! 123\n"
     ]
    },
    {
     "name": "stdout",
     "output_type": "stream",
     "text": [
      "LETTERS: 10\n",
      "DIGITS: 3\n"
     ]
    }
   ],
   "source": [
    "sentence = input(\"Please enter the sentence: \")\n",
    "\n",
    "nums = []\n",
    "letters = []\n",
    "for letter in sentence:\n",
    "    if letter.isalpha():\n",
    "        letters.append(letter)\n",
    "\n",
    "    elif letter.isnumeric():\n",
    "        nums.append(letter)\n",
    "\n",
    "print(f\"LETTERS: {len(letters)}\")\n",
    "print(f\"DIGITS: {len(nums)}\")"
   ]
  },
  {
   "cell_type": "markdown",
   "metadata": {},
   "source": [
    "## Problem - 14\n",
    "*Write a program that accepts a sentence and calculate the number of upper case letters and lower case letters.*\n",
    "\n",
    "*Suppose the following input is supplied to the program:*\n",
    "`Hello world!`\n",
    "*Then, the output should be:*\n",
    "`UPPER CASE 1\n",
    "LOWER CASE 9`"
   ]
  },
  {
   "cell_type": "code",
   "execution_count": 5,
   "metadata": {},
   "outputs": [
    {
     "name": "stdin",
     "output_type": "stream",
     "text": [
      " Hello World!\n"
     ]
    },
    {
     "name": "stdout",
     "output_type": "stream",
     "text": [
      "UPPER CASE: 2\n",
      "LOWER CASE: 8\n"
     ]
    }
   ],
   "source": [
    "sentence = input()\n",
    "\n",
    "upper = 0\n",
    "lower = 0\n",
    "for letter in sentence:\n",
    "    if letter.isupper():\n",
    "        upper+=1\n",
    "    elif letter.islower() and letter != \" \":\n",
    "        lower+=1\n",
    "\n",
    "print(f\"UPPER CASE: {upper}\")\n",
    "print(f\"LOWER CASE: {lower}\")"
   ]
  },
  {
   "cell_type": "markdown",
   "metadata": {},
   "source": [
    "## Problem - 15\n",
    "*Write a program that computes the value of a+aa+aaa+aaaa with a given digit as the value of a.*\n",
    "\n",
    "*Suppose the following input is supplied to the program:*\n",
    "9\n",
    "*Then, the output should be:*\n",
    "11106"
   ]
  },
  {
   "cell_type": "code",
   "execution_count": 7,
   "metadata": {},
   "outputs": [
    {
     "name": "stdout",
     "output_type": "stream",
     "text": [
      "11106\n"
     ]
    }
   ],
   "source": [
    "def add_func(num):\n",
    "    num_2 = str(num)*2\n",
    "    num_3 = str(num)*3\n",
    "    num_4 = str(num)*4\n",
    "    \n",
    "    result = num + int(num_2) + int(num_3) + int(num_4)\n",
    "    return result\n",
    "\n",
    "print(add_func(9))"
   ]
  },
  {
   "cell_type": "markdown",
   "metadata": {},
   "source": [
    "## Problem - 16\n",
    "*Use a list comprehension to square each odd number in a list. The list is input by a sequence of comma-separated numbers. >Suppose the following input is supplied to the program:*\n",
    "`1,2,3,4,5,6,7,8,9`\n",
    "\n",
    "*Then, the output should be:*\n",
    "`1,9,25,49,81`"
   ]
  },
  {
   "cell_type": "code",
   "execution_count": 10,
   "metadata": {},
   "outputs": [
    {
     "name": "stdin",
     "output_type": "stream",
     "text": [
      " 1,2,3,4,5,6,7,8,9\n"
     ]
    },
    {
     "name": "stdout",
     "output_type": "stream",
     "text": [
      "1,9,25,49,81\n"
     ]
    }
   ],
   "source": [
    "nums = [int(num)**2 for num in input().split(',') if int(num) % 2 != 0]\n",
    "nums = [str(num) for num in nums]\n",
    "print(\",\".join(nums))"
   ]
  },
  {
   "cell_type": "markdown",
   "metadata": {},
   "source": [
    "## Problem - 17\n",
    "*Write a program that computes the net amount of a bank account based a transaction log from console input. The transaction log format is shown as following:*\n",
    "\n",
    "`D 100\n",
    "W 200`\n",
    "\n",
    "*D means deposit while W means withdrawal.*\n",
    "\n",
    "`D 300\n",
    "D 300\n",
    "W 200\n",
    "D 100`\n",
    "\n",
    "*Then, the output should be:*\n",
    "\n",
    "`500`"
   ]
  },
  {
   "cell_type": "code",
   "execution_count": 13,
   "metadata": {},
   "outputs": [
    {
     "name": "stdin",
     "output_type": "stream",
     "text": [
      " D 300 D 300 W 200 D 100\n"
     ]
    },
    {
     "name": "stdout",
     "output_type": "stream",
     "text": [
      "Your current amount is: 500\n"
     ]
    }
   ],
   "source": [
    "log = input().split()\n",
    "\n",
    "amount = 0\n",
    "for index,item in enumerate(log):\n",
    "    if item == 'D':\n",
    "        amount += int(log[index+1])\n",
    "    elif item == 'W':\n",
    "        amount -= int(log[index+1])\n",
    "\n",
    "print(f\"Your current amount is: {amount}\")"
   ]
  },
  {
   "cell_type": "code",
   "execution_count": null,
   "metadata": {},
   "outputs": [],
   "source": []
  }
 ],
 "metadata": {
  "kernelspec": {
   "display_name": "Python 3",
   "language": "python",
   "name": "python3"
  },
  "language_info": {
   "codemirror_mode": {
    "name": "ipython",
    "version": 3
   },
   "file_extension": ".py",
   "mimetype": "text/x-python",
   "name": "python",
   "nbconvert_exporter": "python",
   "pygments_lexer": "ipython3",
   "version": "3.8.5"
  }
 },
 "nbformat": 4,
 "nbformat_minor": 4
}
