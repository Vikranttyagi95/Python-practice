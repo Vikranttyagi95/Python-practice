{
 "cells": [
  {
   "cell_type": "markdown",
   "metadata": {},
   "source": [
    "## Problem-1\n",
    "*Write a program which will find all such numbers which are divisible by 7 but are not a multiple of 5, between 2000 and 3200 (both included).The numbers obtained should be printed in a comma-separated sequence on a single line.*"
   ]
  },
  {
   "cell_type": "code",
   "execution_count": 4,
   "metadata": {},
   "outputs": [
    {
     "name": "stdout",
     "output_type": "stream",
     "text": [
      "2002,2009,2016,2023,2037,2044,2051,2058,2072,2079,2086,2093,2107,2114,2121,2128,2142,2149,2156,2163,2177,2184,2191,2198,2212,2219,2226,2233,2247,2254,2261,2268,2282,2289,2296,2303,2317,2324,2331,2338,2352,2359,2366,2373,2387,2394,2401,2408,2422,2429,2436,2443,2457,2464,2471,2478,2492,2499,2506,2513,2527,2534,2541,2548,2562,2569,2576,2583,2597,2604,2611,2618,2632,2639,2646,2653,2667,2674,2681,2688,2702,2709,2716,2723,2737,2744,2751,2758,2772,2779,2786,2793,2807,2814,2821,2828,2842,2849,2856,2863,2877,2884,2891,2898,2912,2919,2926,2933,2947,2954,2961,2968,2982,2989,2996,3003,3017,3024,3031,3038,3052,3059,3066,3073,3087,3094,3101,3108,3122,3129,3136,3143,3157,3164,3171,3178,3192,3199\n"
     ]
    }
   ],
   "source": [
    "for num in range(2000,3201):\n",
    "    if num % 7 == 0 and num % 5 != 0:\n",
    "        print(num, end=\",\")\n",
    "print(\"\\b\")"
   ]
  },
  {
   "cell_type": "markdown",
   "metadata": {},
   "source": [
    "## Problem-2\n",
    "*Write a program which can compute the factorial of a given numbers.The results should be printed in a comma-separated sequence on a single line.Suppose the following input is supplied to the program: 8 Then, the output should be:40320*"
   ]
  },
  {
   "cell_type": "code",
   "execution_count": 16,
   "metadata": {},
   "outputs": [
    {
     "name": "stdout",
     "output_type": "stream",
     "text": [
      "40320\n"
     ]
    }
   ],
   "source": [
    "# Iterative Solution\n",
    "\n",
    "def factorial_1(num):\n",
    "    result = 1\n",
    "    \n",
    "    if num in [0,1]:\n",
    "        return 1\n",
    "    else:\n",
    "        for i in range(1, num+1):\n",
    "            result = result*i\n",
    "        \n",
    "        return result\n",
    "\n",
    "# Recursive Solution\n",
    "\n",
    "def factorial_2(num):\n",
    "    if num in [0,1]:\n",
    "        return 1\n",
    "    else:\n",
    "        return num*factorial_2(num-1)\n",
    "\n",
    "print(factorial_2(8))    "
   ]
  },
  {
   "cell_type": "markdown",
   "metadata": {},
   "source": [
    "## Problem-3\n",
    "*With a given integral number n, write a program to generate a dictionary that contains (i, i x i) such that is an integral number between 1 and n (both included). and then the program should print the dictionary.Suppose the following input is supplied to the program: 8*\n",
    "\n",
    "*Then, the output should be:*\n",
    "`{1: 1, 2: 4, 3: 9, 4: 16, 5: 25, 6: 36, 7: 49, 8: 64}`"
   ]
  },
  {
   "cell_type": "code",
   "execution_count": 15,
   "metadata": {},
   "outputs": [
    {
     "name": "stdout",
     "output_type": "stream",
     "text": [
      "{1: 1, 2: 4, 3: 9, 4: 16, 5: 25, 6: 36, 7: 49, 8: 64}\n",
      "{1: 1, 2: 4, 3: 9, 4: 16, 5: 25, 6: 36, 7: 49, 8: 64}\n"
     ]
    }
   ],
   "source": [
    "def generate_dict(num):\n",
    "    result = dict()\n",
    "    for n in range(1, num+1):\n",
    "        result[n] = n*n\n",
    "    \n",
    "    return result\n",
    "\n",
    "# Using dict comprehension\n",
    "print({n: n*n for n in range(1, 8+1)})\n",
    "\n",
    "print(generate_dict(8))"
   ]
  },
  {
   "cell_type": "markdown",
   "metadata": {},
   "source": [
    "## Problem-4\n",
    "*Write a program which accepts a sequence of comma-separated numbers from console and generate a list and a tuple which contains every number.Suppose the following input is supplied to the program:*"
   ]
  },
  {
   "cell_type": "code",
   "execution_count": 8,
   "metadata": {},
   "outputs": [
    {
     "name": "stdin",
     "output_type": "stream",
     "text": [
      "Please provide the no:  3,1,5,8,9,10\n"
     ]
    },
    {
     "name": "stdout",
     "output_type": "stream",
     "text": [
      "['3', '1', '5', '8', '9', '10']\n",
      "('3', '1', '5', '8', '9', '10')\n"
     ]
    }
   ],
   "source": [
    "nums = input(\"Please provide the no: \").split(',')\n",
    "print(nums)\n",
    "print(tuple(nums))"
   ]
  },
  {
   "cell_type": "markdown",
   "metadata": {},
   "source": [
    "## Problem -5\n",
    "*Define a class which has at least two methods:*\n",
    "- getString: to get a string from console input\n",
    "- printString: to print the string in upper case\n",
    "*Also please include simple test function to test the class methods.*"
   ]
  },
  {
   "cell_type": "code",
   "execution_count": 11,
   "metadata": {},
   "outputs": [
    {
     "name": "stdin",
     "output_type": "stream",
     "text": [
      "Please input a string:  vikrant\n"
     ]
    },
    {
     "name": "stdout",
     "output_type": "stream",
     "text": [
      "Supplied string is: VIKRANT\n"
     ]
    }
   ],
   "source": [
    "class StringInput():\n",
    "    \n",
    "    def getString(self):\n",
    "        input_str = input(\"Please input a string: \")\n",
    "        self.string = input_str\n",
    "        \n",
    "    def printString(self):\n",
    "        print(\"Supplied string is: \" +self.string.upper())\n",
    "    \n",
    "\n",
    "obj = StringInput()\n",
    "obj.getString()\n",
    "obj.printString()"
   ]
  },
  {
   "cell_type": "markdown",
   "metadata": {},
   "source": [
    "## Problem-6\n",
    "*Write a program that calculates and prints the value according to the given formula:*\n",
    "\n",
    "- Q = Square root of [(2 _ C _ D)/H]\n",
    "\n",
    "*Following are the fixed values of C and H:*\n",
    "\n",
    "- C is 50. H is 30.\n",
    "*D is the variable whose values should be input to your program in a comma-separated sequence.For example Let us assume the following comma separated input sequence is given to the program:*"
   ]
  },
  {
   "cell_type": "code",
   "execution_count": 26,
   "metadata": {},
   "outputs": [
    {
     "name": "stdin",
     "output_type": "stream",
     "text": [
      "Please enter the values of D:  8,2,10\n"
     ]
    },
    {
     "name": "stdout",
     "output_type": "stream",
     "text": [
      "5.163977794943222,2.581988897471611,5.773502691896258\n"
     ]
    }
   ],
   "source": [
    "import math\n",
    "\n",
    "D = input(\"Please enter the values of D: \").split(',')\n",
    "\n",
    "def my_func(D):\n",
    "    C = 50\n",
    "    H = 30\n",
    "    D = int(D)\n",
    "    cal1 = (2*C*D)/H\n",
    "    result = math.sqrt(cal1)\n",
    "\n",
    "    return result\n",
    "\n",
    "D = [my_func(value) for value in D]\n",
    "D = [str(value) for value in D]\n",
    "\n",
    "print(\",\".join(D))    "
   ]
  },
  {
   "cell_type": "markdown",
   "metadata": {},
   "source": [
    "## Problem - 7\n",
    "*_Write a program which takes 2 digits, X,Y as input and generates a 2-dimensional array. The element value in the i-th row and j-th column of the array should be i _ j.*\n",
    "\n",
    "*Note: i=0,1.., X-1; j=0,1,¡­Y-1. Suppose the following inputs are given to the program: 3,5*\n",
    "\n",
    "*Then, the output of the program should be: [[0, 0, 0, 0, 0], [0, 1, 2, 3, 4], [0, 2, 4, 6, 8]]*"
   ]
  },
  {
   "cell_type": "code",
   "execution_count": 32,
   "metadata": {},
   "outputs": [
    {
     "name": "stdout",
     "output_type": "stream",
     "text": [
      "[[0, 0, 0, 0, 0], [0, 1, 2, 3, 4], [0, 2, 4, 6, 8]]\n"
     ]
    }
   ],
   "source": [
    "def array(x,y):\n",
    "    return [[i*j for j in range(5)] for i in range(3)]\n",
    "\n",
    "print(array(3,5))\n"
   ]
  },
  {
   "cell_type": "markdown",
   "metadata": {},
   "source": [
    "## Problem - 8\n",
    "*Write a program that accepts a comma separated sequence of words as input and prints the words in a comma-separated sequence after sorting them alphabetically.*\n",
    "\n",
    "*Suppose the following input is supplied to the program:*\n",
    "- without,hello,bag,world\n",
    "*Then, the output should be:*\n",
    "- bag,hello,without,world"
   ]
  },
  {
   "cell_type": "code",
   "execution_count": 38,
   "metadata": {},
   "outputs": [
    {
     "name": "stdin",
     "output_type": "stream",
     "text": [
      "Please input letters:  without,bag,hello,world\n"
     ]
    },
    {
     "name": "stdout",
     "output_type": "stream",
     "text": [
      "['without', 'bag', 'hello', 'world']\n",
      "bag,hello,without,world\n"
     ]
    }
   ],
   "source": [
    "letters = input(\"Please input letters: \").split(\",\")\n",
    "print(letters)\n",
    "print(\",\".join(sorted(letters)))"
   ]
  },
  {
   "cell_type": "markdown",
   "metadata": {},
   "source": [
    "## Problem - 9\n",
    "*Write a program that accepts sequence of lines as input and prints the lines after making all characters in the sentence capitalized.*\n",
    "\n",
    "*Suppose the following input is supplied to the program:*\n",
    "\n",
    "Hello world\n",
    "Practice makes perfect\n",
    "\n",
    "*Then, the output should be:*\n",
    "\n",
    "HELLO WORLD\n",
    "PRACTICE MAKES PERFECT"
   ]
  },
  {
   "cell_type": "code",
   "execution_count": 43,
   "metadata": {},
   "outputs": [
    {
     "name": "stdin",
     "output_type": "stream",
     "text": [
      " hello\n",
      " bye bye\n",
      " \n"
     ]
    },
    {
     "name": "stdout",
     "output_type": "stream",
     "text": [
      "HELLO\n",
      "BYE BYE\n"
     ]
    }
   ],
   "source": [
    "lst = []\n",
    "\n",
    "while True:\n",
    "    s = input()\n",
    "    if not s:\n",
    "        break\n",
    "    else:\n",
    "        lst.append(s.upper())\n",
    "\n",
    "for item in lst:\n",
    "    print(item)"
   ]
  },
  {
   "cell_type": "markdown",
   "metadata": {},
   "source": [
    "## Problem - 10 \n",
    "*Write a program that accepts a sequence of whitespace separated words as input and prints the words after removing all duplicate words and sorting them alphanumerically.*\n",
    "\n",
    "*Suppose the following input is supplied to the program:*\n",
    "- hello world and practice makes perfect and hello world again\n",
    "*Then, the output should be:*\n",
    "- again and hello makes perfect practice world"
   ]
  },
  {
   "cell_type": "code",
   "execution_count": 13,
   "metadata": {},
   "outputs": [
    {
     "name": "stdin",
     "output_type": "stream",
     "text": [
      " hello world and practice makes perfect and hello world again\n"
     ]
    },
    {
     "name": "stdout",
     "output_type": "stream",
     "text": [
      "again and hello makes perfect practice world\n",
      "again and hello makes perfect practice world\n"
     ]
    }
   ],
   "source": [
    "# solution using set\n",
    "\n",
    "words = input().split()\n",
    "\n",
    "unique_words = list(set(words))\n",
    "\n",
    "result = [word for word in sorted(unique_words)]\n",
    "print(\" \".join(result))\n",
    "\n",
    "# solution using just list\n",
    "\n",
    "result = []\n",
    "for word in words:\n",
    "    if word not in result:\n",
    "        result.append(word)\n",
    "print(\" \".join(sorted(result)))"
   ]
  },
  {
   "cell_type": "markdown",
   "metadata": {},
   "source": [
    "## Problem - 11\n",
    "*Write a program which accepts a sequence of comma separated 4 digit binary numbers as its input and then check whether they are divisible by 5 or not. The numbers that are divisible by 5 are to be printed in a comma separated sequence.*\n",
    "- Example:\n",
    "`0100,0011,1010,1001`\n",
    "- Then the output should be:\n",
    "`1010`"
   ]
  },
  {
   "cell_type": "code",
   "execution_count": 18,
   "metadata": {},
   "outputs": [
    {
     "name": "stdin",
     "output_type": "stream",
     "text": [
      " 0100,0011,1010,1001\n"
     ]
    },
    {
     "name": "stdout",
     "output_type": "stream",
     "text": [
      "1010\n"
     ]
    }
   ],
   "source": [
    "bin_nums = input().split(',')\n",
    "\n",
    "decimals = []\n",
    "for num in bin_nums:\n",
    "    decimal = int(num,2)\n",
    "    if decimal % 5 == 0:\n",
    "        print(num)\n"
   ]
  },
  {
   "cell_type": "markdown",
   "metadata": {},
   "source": [
    "## Problem - 12\n",
    "*Write a program, which will find all such numbers between 1000 and 3000 (both included) such that each digit of the number is an even number.The numbers obtained should be printed in a comma-separated sequence on a single line.*\n"
   ]
  },
  {
   "cell_type": "code",
   "execution_count": 33,
   "metadata": {},
   "outputs": [
    {
     "name": "stdout",
     "output_type": "stream",
     "text": [
      "2000,2002,2004,2006,2008,2020,2022,2024,2026,2028,2040,2042,2044,2046,2048,2060,2062,2064,2066,2068,2080,2082,2084,2086,2088,2200,2202,2204,2206,2208,2220,2222,2224,2226,2228,2240,2242,2244,2246,2248,2260,2262,2264,2266,2268,2280,2282,2284,2286,2288,2400,2402,2404,2406,2408,2420,2422,2424,2426,2428,2440,2442,2444,2446,2448,2460,2462,2464,2466,2468,2480,2482,2484,2486,2488,2600,2602,2604,2606,2608,2620,2622,2624,2626,2628,2640,2642,2644,2646,2648,2660,2662,2664,2666,2668,2680,2682,2684,2686,2688,2800,2802,2804,2806,2808,2820,2822,2824,2826,2828,2840,2842,2844,2846,2848,2860,2862,2864,2866,2868,2880,2882,2884,2886,2888,2000,2002,2004,2006,2008,2020,2022,2024,2026,2028,2040,2042,2044,2046,2048,2060,2062,2064,2066,2068,2080,2082,2084,2086,2088,2200,2202,2204,2206,2208,2220,2222,2224,2226,2228,2240,2242,2244,2246,2248,2260,2262,2264,2266,2268,2280,2282,2284,2286,2288,2400,2402,2404,2406,2408,2420,2422,2424,2426,2428,2440,2442,2444,2446,2448,2460,2462,2464,2466,2468,2480,2482,2484,2486,2488,2600,2602,2604,2606,2608,2620,2622,2624,2626,2628,2640,2642,2644,2646,2648,2660,2662,2664,2666,2668,2680,2682,2684,2686,2688,2800,2802,2804,2806,2808,2820,2822,2824,2826,2828,2840,2842,2844,2846,2848,2860,2862,2864,2866,2868,2880,2882,2884,2886,2888\n"
     ]
    }
   ],
   "source": [
    "def digit_extractor(num):\n",
    "    digits = []\n",
    "    \n",
    "    while num >= 10:\n",
    "        digit = num % 10\n",
    "        num = num // 10\n",
    "        digits.append(digit)\n",
    "        \n",
    "    digits.append(num)\n",
    "    return list(reversed(digits))\n",
    "\n",
    "for num in range(1000,3001):\n",
    "    digits = digit_extractor(num)\n",
    "\n",
    "    temp_list = []\n",
    "    for digit in digits:\n",
    "        if digit % 2 == 0:\n",
    "            temp_list.append(digit)\n",
    "    \n",
    "    if len(temp_list) == len(digits):\n",
    "        print(num, end=\",\")\n",
    "\n",
    "# A pythonic solution\n",
    "print(','.join([str(num) for num in range(1000, 3001) if all(map(lambda num: int(num) % 2 == 0, str(num)))]))"
   ]
  },
  {
   "cell_type": "markdown",
   "metadata": {},
   "source": [
    "## Problem - 13\n",
    "*Write a program that accepts a sentence and calculate the number of letters and digits.*\n",
    "\n",
    "*Suppose the following input is supplied to the program:*\n",
    "`hello world! 123`\n",
    "*Then, the output should be:*\n",
    "`LETTERS 10\n",
    "DIGITS 3`"
   ]
  },
  {
   "cell_type": "code",
   "execution_count": 6,
   "metadata": {},
   "outputs": [
    {
     "name": "stdin",
     "output_type": "stream",
     "text": [
      "Please enter the sentence:  hello world! 123\n"
     ]
    },
    {
     "name": "stdout",
     "output_type": "stream",
     "text": [
      "LETTERS: 10\n",
      "DIGITS: 3\n"
     ]
    }
   ],
   "source": [
    "sentence = input(\"Please enter the sentence: \")\n",
    "\n",
    "nums = []\n",
    "letters = []\n",
    "for letter in sentence:\n",
    "    if letter.isalpha():\n",
    "        letters.append(letter)\n",
    "\n",
    "    elif letter.isnumeric():\n",
    "        nums.append(letter)\n",
    "\n",
    "print(f\"LETTERS: {len(letters)}\")\n",
    "print(f\"DIGITS: {len(nums)}\")"
   ]
  },
  {
   "cell_type": "markdown",
   "metadata": {},
   "source": [
    "## Problem - 14\n",
    "*Write a program that accepts a sentence and calculate the number of upper case letters and lower case letters.*\n",
    "\n",
    "*Suppose the following input is supplied to the program:*\n",
    "`Hello world!`\n",
    "*Then, the output should be:*\n",
    "`UPPER CASE 1\n",
    "LOWER CASE 9`"
   ]
  },
  {
   "cell_type": "code",
   "execution_count": 5,
   "metadata": {},
   "outputs": [
    {
     "name": "stdin",
     "output_type": "stream",
     "text": [
      " Hello World!\n"
     ]
    },
    {
     "name": "stdout",
     "output_type": "stream",
     "text": [
      "UPPER CASE: 2\n",
      "LOWER CASE: 8\n"
     ]
    }
   ],
   "source": [
    "sentence = input()\n",
    "\n",
    "upper = 0\n",
    "lower = 0\n",
    "for letter in sentence:\n",
    "    if letter.isupper():\n",
    "        upper+=1\n",
    "    elif letter.islower() and letter != \" \":\n",
    "        lower+=1\n",
    "\n",
    "print(f\"UPPER CASE: {upper}\")\n",
    "print(f\"LOWER CASE: {lower}\")"
   ]
  },
  {
   "cell_type": "markdown",
   "metadata": {},
   "source": [
    "## Problem - 15\n",
    "*Write a program that computes the value of a+aa+aaa+aaaa with a given digit as the value of a.*\n",
    "\n",
    "*Suppose the following input is supplied to the program:*\n",
    "9\n",
    "*Then, the output should be:*\n",
    "11106"
   ]
  },
  {
   "cell_type": "code",
   "execution_count": 7,
   "metadata": {},
   "outputs": [
    {
     "name": "stdout",
     "output_type": "stream",
     "text": [
      "11106\n"
     ]
    }
   ],
   "source": [
    "def add_func(num):\n",
    "    num_2 = str(num)*2\n",
    "    num_3 = str(num)*3\n",
    "    num_4 = str(num)*4\n",
    "    \n",
    "    result = num + int(num_2) + int(num_3) + int(num_4)\n",
    "    return result\n",
    "\n",
    "print(add_func(9))"
   ]
  },
  {
   "cell_type": "markdown",
   "metadata": {},
   "source": [
    "## Problem - 16\n",
    "*Use a list comprehension to square each odd number in a list. The list is input by a sequence of comma-separated numbers. >Suppose the following input is supplied to the program:*\n",
    "`1,2,3,4,5,6,7,8,9`\n",
    "\n",
    "*Then, the output should be:*\n",
    "`1,9,25,49,81`"
   ]
  },
  {
   "cell_type": "code",
   "execution_count": 10,
   "metadata": {},
   "outputs": [
    {
     "name": "stdin",
     "output_type": "stream",
     "text": [
      " 1,2,3,4,5,6,7,8,9\n"
     ]
    },
    {
     "name": "stdout",
     "output_type": "stream",
     "text": [
      "1,9,25,49,81\n"
     ]
    }
   ],
   "source": [
    "nums = [int(num)**2 for num in input().split(',') if int(num) % 2 != 0]\n",
    "nums = [str(num) for num in nums]\n",
    "print(\",\".join(nums))"
   ]
  },
  {
   "cell_type": "markdown",
   "metadata": {},
   "source": [
    "## Problem - 17\n",
    "*Write a program that computes the net amount of a bank account based a transaction log from console input. The transaction log format is shown as following:*\n",
    "\n",
    "`D 100\n",
    "W 200`\n",
    "\n",
    "*D means deposit while W means withdrawal.*\n",
    "\n",
    "`D 300\n",
    "D 300\n",
    "W 200\n",
    "D 100`\n",
    "\n",
    "*Then, the output should be:*\n",
    "\n",
    "`500`"
   ]
  },
  {
   "cell_type": "code",
   "execution_count": 13,
   "metadata": {},
   "outputs": [
    {
     "name": "stdin",
     "output_type": "stream",
     "text": [
      " D 300 D 300 W 200 D 100\n"
     ]
    },
    {
     "name": "stdout",
     "output_type": "stream",
     "text": [
      "Your current amount is: 500\n"
     ]
    }
   ],
   "source": [
    "log = input().split()\n",
    "\n",
    "amount = 0\n",
    "for index,item in enumerate(log):\n",
    "    if item == 'D':\n",
    "        amount += int(log[index+1])\n",
    "    elif item == 'W':\n",
    "        amount -= int(log[index+1])\n",
    "\n",
    "print(f\"Your current amount is: {amount}\")"
   ]
  },
  {
   "cell_type": "markdown",
   "metadata": {},
   "source": [
    "## Problem - 18\n",
    "*A website requires the users to input username and password to register. Write a program to check the validity of password input by users.*\n",
    "\n",
    "*Following are the criteria for checking the password:*\n",
    "- At least 1 letter between [a-z]\n",
    "- At least 1 number between [0-9]\n",
    "- At least 1 letter between [A-Z]\n",
    "- At least 1 character from [$#@]\n",
    "- Minimum length of transaction password: 6\n",
    "- Maximum length of transaction password: 12\n",
    "*Your program should accept a sequence of comma separated passwords and will check them according to the above criteria. Passwords that match the criteria are to be printed, each separated by a comma.*\n",
    "\n",
    "*Example*\n",
    "*If the following passwords are given as input to the program:*\n",
    "`ABd1234@1,a F1#,2w3E*,2We3345`\n",
    "*Then, the output of the program should be:*\n",
    "`ABd1234@1`"
   ]
  },
  {
   "cell_type": "code",
   "execution_count": 17,
   "metadata": {},
   "outputs": [
    {
     "name": "stdin",
     "output_type": "stream",
     "text": [
      "Please enter passwords:  ABd1234@1,a F1#,2w3E*,2We3345\n"
     ]
    },
    {
     "name": "stdout",
     "output_type": "stream",
     "text": [
      "ABd1234@1\n"
     ]
    }
   ],
   "source": [
    "import string\n",
    "\n",
    "passwords = input(\"Please enter passwords: \").split(',')\n",
    "\n",
    "def char_cond(password):\n",
    "    return any(char in password for char in string.ascii_lowercase)\n",
    "\n",
    "def digit_cond(password):\n",
    "    return any(char in password for char in string.digits)\n",
    "\n",
    "def special_cond(password):\n",
    "    return any(char in password for char in \"$#@\")\n",
    "\n",
    "for password in passwords:\n",
    "    if 6 <= len(password) <=12 and char_cond(password) and digit_cond(password) and special_cond(password):\n",
    "        print(password)          "
   ]
  },
  {
   "cell_type": "markdown",
   "metadata": {},
   "source": [
    "## Problem - 19\n",
    "*You are required to write a program to sort the (name, age, score) tuples by ascending order where name is string, age and score are numbers. The tuples are input by console. The sort criteria is:*\n",
    "- 1: Sort based on name\n",
    "- 2: Then sort based on age\n",
    "- 3: Then sort by score\n",
    "*The priority is that name > age > score.*\n",
    "*If the following tuples are given as input to the program:*\n",
    "\n",
    "`Tom,19,80\n",
    "John,20,90\n",
    "Jony,17,91\n",
    "Jony,17,93\n",
    "Json,21,85`\n",
    "\n",
    "*Then, the output of the program should be:*\n",
    "\n",
    "`[('John', '20', '90'), ('Jony', '17', '91'), ('Jony', '17', '93'), ('Json', '21', '85'), ('Tom', '19', '80')]`"
   ]
  },
  {
   "cell_type": "code",
   "execution_count": 31,
   "metadata": {},
   "outputs": [
    {
     "name": "stdin",
     "output_type": "stream",
     "text": [
      " Tom,19,80 John,20,90 Jony,17,91 Jony,17,93 Json,21,85\n"
     ]
    },
    {
     "name": "stdout",
     "output_type": "stream",
     "text": [
      "[('Tom', '19', '80'), ('John', '20', '90'), ('Jony', '17', '91'), ('Jony', '17', '93'), ('Json', '21', '85')]\n",
      "[('John', '20', '90'), ('Jony', '17', '91'), ('Jony', '17', '93'), ('Json', '21', '85'), ('Tom', '19', '80')]\n"
     ]
    }
   ],
   "source": [
    "users = input().split()\n",
    "\n",
    "lst=[]\n",
    "for item in users:\n",
    "    name = item.split(',')[0]\n",
    "    age = item.split(',')[1]\n",
    "    score = item.split(',')[2]\n",
    "    \n",
    "    lst.append((name,age,score))\n",
    "print(lst)\n",
    "lst.sort(key=lambda x:(x[0],int(x[1]),int(x[2])))\n",
    "print(lst)"
   ]
  },
  {
   "cell_type": "markdown",
   "metadata": {},
   "source": [
    "## Problem - 20\n",
    "*Define a class with a generator which can iterate the numbers, which are divisible by 7, between a given range 0 and n.*\n",
    "\n",
    "*Suppose the following input is supplied to the program:*\n",
    "`7`\n",
    "*Then, the output should be:*\n",
    "`0\n",
    "7\n",
    "14`"
   ]
  },
  {
   "cell_type": "code",
   "execution_count": 3,
   "metadata": {},
   "outputs": [
    {
     "name": "stdin",
     "output_type": "stream",
     "text": [
      "Please insert a number. -->  7\n"
     ]
    },
    {
     "name": "stdout",
     "output_type": "stream",
     "text": [
      "7\n"
     ]
    }
   ],
   "source": [
    "class Divisible:\n",
    "\n",
    "    def by_seven(self, n):\n",
    "        for number in range(1,n + 1):\n",
    "            if number % 7 == 0: yield number\n",
    "\n",
    "\n",
    "divisible = Divisible()\n",
    "generator = divisible.by_seven(int(input(\"Please insert a number. --> \")))\n",
    "for number in generator:\n",
    "    print(number)"
   ]
  },
  {
   "cell_type": "markdown",
   "metadata": {},
   "source": [
    "## Problem - 21\n",
    "*A robot moves in a plane starting from the original point (0,0). The robot can move toward UP, DOWN, LEFT and RIGHT with a given steps. The trace of robot movement is shown as the following:*\n",
    "\n",
    "`UP 5\n",
    "DOWN 3\n",
    "LEFT 3\n",
    "RIGHT 2`\n",
    "\n",
    "*The numbers after the direction are steps. Please write a program to compute the distance from current position after a sequence of movement and original point. If the distance is a float, then just print the nearest integer. Example: If the following tuples are given as input to the program:*\n",
    "\n",
    "`UP 5\n",
    "DOWN 3\n",
    "LEFT 3\n",
    "RIGHT 2`\n",
    "\n",
    "*Then, the output of the program should be:* `2`"
   ]
  },
  {
   "cell_type": "code",
   "execution_count": 7,
   "metadata": {},
   "outputs": [
    {
     "name": "stdin",
     "output_type": "stream",
     "text": [
      " UP 5\n",
      " DOWN 3\n",
      " LEFT 3\n",
      " RIGHT 2\n",
      " \n"
     ]
    },
    {
     "name": "stdout",
     "output_type": "stream",
     "text": [
      "2\n"
     ]
    }
   ],
   "source": [
    "from math import sqrt\n",
    "\n",
    "lst = []\n",
    "position = [0,0]\n",
    "while True:\n",
    "    a = input()\n",
    "    if not a:\n",
    "        break\n",
    "    lst.append(a)\n",
    "for i in lst:\n",
    "    if 'UP' in i:\n",
    "        position[0] += int(i.strip('UP '))\n",
    "    if 'DOWN' in i:\n",
    "        position[0] -= int(i.strip('DOWN '))\n",
    "    if 'LEFT' in i:\n",
    "        position[1] -= int(i.strip('LEFT '))\n",
    "    if 'RIGHT' in i:\n",
    "        position[1] += int(i.strip('RIGHT '))\n",
    "print(round(sqrt(position[1] ** 2 + position[0] ** 2)))"
   ]
  },
  {
   "cell_type": "markdown",
   "metadata": {},
   "source": [
    "## Problem - 22\n",
    "*Write a program to compute the frequency of the words from the input. The output should output after sorting the key alphanumerically.*\n",
    "\n",
    "*Suppose the following input is supplied to the program:*\n",
    "\n",
    "`New to Python or choosing between Python 2 and Python 3? Read Python 2 or Python 3.`\n",
    "\n",
    "*Then, the output should be:*\n",
    "\n",
    "`2:2\n",
    "3.:1\n",
    "3?:1\n",
    "New:1\n",
    "Python:5\n",
    "Read:1\n",
    "and:1\n",
    "between:1\n",
    "choosing:1\n",
    "or:2\n",
    "to:1`"
   ]
  },
  {
   "cell_type": "code",
   "execution_count": 26,
   "metadata": {},
   "outputs": [
    {
     "name": "stdin",
     "output_type": "stream",
     "text": [
      " New to Python or choosing between Python 2 and Python 3? Read Python 2 or Python 3\n"
     ]
    },
    {
     "name": "stdout",
     "output_type": "stream",
     "text": [
      "2:2 3:1 3?:1 New:1 Python:5 Read:1 and:1 between:1 choosing:1 or:2 to:1 "
     ]
    }
   ],
   "source": [
    "sentence = input().split()\n",
    "\n",
    "freq_dict = dict()\n",
    "\n",
    "for word in sentence:\n",
    "    if word not in freq_dict.keys():\n",
    "        freq_dict[word] = 1\n",
    "    else:\n",
    "        freq_dict[word] += 1\n",
    "\n",
    "items = [(key,value) for key,value in freq_dict.items()]\n",
    "items.sort(key=lambda x:x[0])\n",
    "freq_dict = dict(items)\n",
    "\n",
    "for key,value in freq_dict.items():\n",
    "    print(f\"{key}:{value}\", end=\" \")"
   ]
  },
  {
   "cell_type": "markdown",
   "metadata": {},
   "source": [
    "## Problem - 23\n",
    "*Write a method which can calculate square value of number*\n",
    "\n",
    "*Using the ** operator which can be written as n**p where means n^p*\n"
   ]
  },
  {
   "cell_type": "code",
   "execution_count": 28,
   "metadata": {},
   "outputs": [
    {
     "name": "stdout",
     "output_type": "stream",
     "text": [
      "9\n"
     ]
    }
   ],
   "source": [
    "def squared(num, power):\n",
    "    return num**power\n",
    "\n",
    "print(squared(3,2))"
   ]
  },
  {
   "cell_type": "markdown",
   "metadata": {},
   "source": [
    "## Problem - 24\n",
    "*Python has many built-in functions, and if you do not know how to use it, you can read document online or find some books. But Python has a built-in document function for every built-in functions.*\n",
    "\n",
    "*Please write a program to print some Python built-in functions documents, such as abs(), int(), raw_input()*\n",
    "\n",
    "*And add document for your own function*\n"
   ]
  },
  {
   "cell_type": "code",
   "execution_count": 36,
   "metadata": {},
   "outputs": [
    {
     "name": "stdout",
     "output_type": "stream",
     "text": [
      "int([x]) -> integer\n",
      "int(x, base=10) -> integer\n",
      "\n",
      "Convert a number or string to an integer, or return 0 if no arguments\n",
      "are given.  If x is a number, return x.__int__().  For floating point\n",
      "numbers, this truncates towards zero.\n",
      "\n",
      "If x is not a number or if base is given, then x must be a string,\n",
      "bytes, or bytearray instance representing an integer literal in the\n",
      "given base.  The literal can be preceded by '+' or '-' and be surrounded\n",
      "by whitespace.  The base defaults to 10.  Valid bases are 0 and 2-36.\n",
      "Base 0 means to interpret the base from the string as an integer literal.\n",
      ">>> int('0b100', base=0)\n",
      "4\n"
     ]
    }
   ],
   "source": [
    "print(int.__doc__)"
   ]
  },
  {
   "cell_type": "markdown",
   "metadata": {},
   "source": [
    "## Problem - 25\n",
    "*Define a class, which have a class parameter and have a same instance parameter.*"
   ]
  },
  {
   "cell_type": "code",
   "execution_count": 40,
   "metadata": {},
   "outputs": [
    {
     "name": "stdout",
     "output_type": "stream",
     "text": [
      "5\n",
      "10\n"
     ]
    }
   ],
   "source": [
    "class DemoClass():\n",
    "    mynum = 10\n",
    "    \n",
    "    def __init__(self, mynum):\n",
    "        self.mynum = mynum\n",
    "\n",
    "obj = DemoClass(5)\n",
    "print(obj.mynum)\n",
    "print(DemoClass.mynum)"
   ]
  },
  {
   "cell_type": "markdown",
   "metadata": {},
   "source": [
    "## Problem - 26\n",
    "*Define a function which can compute the sum of two numbers.*"
   ]
  },
  {
   "cell_type": "code",
   "execution_count": 2,
   "metadata": {},
   "outputs": [
    {
     "name": "stdout",
     "output_type": "stream",
     "text": [
      "8\n"
     ]
    }
   ],
   "source": [
    "def sum_func(num1, num2):\n",
    "    return num1+num2\n",
    "\n",
    "print(sum_func(3,5))"
   ]
  },
  {
   "cell_type": "markdown",
   "metadata": {},
   "source": [
    "## Problem - 27\n",
    "*Define a function that can convert a integer into a string and print it in console.*\n"
   ]
  },
  {
   "cell_type": "code",
   "execution_count": 3,
   "metadata": {},
   "outputs": [
    {
     "name": "stdout",
     "output_type": "stream",
     "text": [
      "5\n"
     ]
    }
   ],
   "source": [
    "def int_to_str(num):\n",
    "    print(str(num))\n",
    "\n",
    "int_to_str(5)"
   ]
  },
  {
   "cell_type": "markdown",
   "metadata": {},
   "source": [
    "## Problem - 28\n",
    "*Define a function that can receive two integer numbers in string form and compute their sum and then print it in console.*"
   ]
  },
  {
   "cell_type": "code",
   "execution_count": 4,
   "metadata": {},
   "outputs": [
    {
     "name": "stdout",
     "output_type": "stream",
     "text": [
      "9\n"
     ]
    }
   ],
   "source": [
    "def sum_func(num1,num2):\n",
    "    print(int(num1) + int(num2))\n",
    "\n",
    "sum_func('4','5')"
   ]
  },
  {
   "cell_type": "markdown",
   "metadata": {},
   "source": [
    "## Problem - 29\n",
    "*Define a function that can accept two strings as input and concatenate them and then print it in console.*"
   ]
  },
  {
   "cell_type": "code",
   "execution_count": 5,
   "metadata": {},
   "outputs": [
    {
     "name": "stdout",
     "output_type": "stream",
     "text": [
      "VikrantTyagi\n"
     ]
    }
   ],
   "source": [
    "def str_concat(str1, str2):\n",
    "    print(str1 + str2)\n",
    "\n",
    "str_concat(\"Vikrant\",\"Tyagi\")"
   ]
  },
  {
   "cell_type": "markdown",
   "metadata": {},
   "source": [
    "## Problem - 30\n",
    "*Define a function that can accept two strings as input and print the string with maximum length in console. If two strings have the same length, then the function should print all strings line by line.*"
   ]
  },
  {
   "cell_type": "code",
   "execution_count": 8,
   "metadata": {},
   "outputs": [
    {
     "name": "stdout",
     "output_type": "stream",
     "text": [
      "Tyagi\n"
     ]
    }
   ],
   "source": [
    "def calc_length(str1, str2):\n",
    "    if len(str1) > len(str2):\n",
    "        print(str1)\n",
    "    elif len(str1) == len(str2):\n",
    "        print(str1)\n",
    "        print(str2)\n",
    "    else:\n",
    "        print(str2)\n",
    "\n",
    "calc_length(\"Tyagi\",\"Cat\")"
   ]
  },
  {
   "cell_type": "markdown",
   "metadata": {},
   "source": [
    "## Problem - 31\n",
    "*Define a function which can print a dictionary where the keys are numbers between 1 and 20 (both included) and the values are square of keys.*"
   ]
  },
  {
   "cell_type": "code",
   "execution_count": 10,
   "metadata": {},
   "outputs": [
    {
     "name": "stdout",
     "output_type": "stream",
     "text": [
      "{1: 1, 2: 4, 3: 9, 4: 16, 5: 25, 6: 36, 7: 49, 8: 64, 9: 81, 10: 100, 11: 121, 12: 144, 13: 169, 14: 196, 15: 225, 16: 256, 17: 289, 18: 324, 19: 361, 20: 400}\n"
     ]
    }
   ],
   "source": [
    "def square_dic():\n",
    "    print({i:i*i for i in range(1,21)})\n",
    "          \n",
    "square_dic()"
   ]
  },
  {
   "cell_type": "markdown",
   "metadata": {},
   "source": [
    "## Problem - 32\n",
    "*Define a function which can generate a dictionary where the keys are numbers between 1 and 20 (both included) \n",
    "*and the values are square of keys. The function should just print the keys only.*"
   ]
  },
  {
   "cell_type": "code",
   "execution_count": 14,
   "metadata": {},
   "outputs": [
    {
     "name": "stdout",
     "output_type": "stream",
     "text": [
      "dict_keys([1, 2, 3, 4, 5, 6, 7, 8, 9, 10, 11, 12, 13, 14, 15, 16, 17, 18, 19, 20])\n"
     ]
    }
   ],
   "source": [
    "def square_dic():\n",
    "    my_dict = dict()\n",
    "    for i in range(1,21):\n",
    "        my_dict[i] = i*i\n",
    "    \n",
    "    print(my_dict.keys())\n",
    "\n",
    "square_dic()"
   ]
  },
  {
   "cell_type": "markdown",
   "metadata": {},
   "source": [
    "## Problem - 33\n",
    "*Define a function which can generate and print a list where the values are square of numbers between 1 and 20 (both included).*"
   ]
  },
  {
   "cell_type": "code",
   "execution_count": 16,
   "metadata": {},
   "outputs": [
    {
     "name": "stdout",
     "output_type": "stream",
     "text": [
      "[1, 4, 9, 16, 25, 36, 49, 64, 81, 100, 121, 144, 169, 196, 225, 256, 289, 324, 361, 400]\n"
     ]
    }
   ],
   "source": [
    "def my_func():\n",
    "    print([item**2 for item in range(1,21)])\n",
    "\n",
    "my_func()"
   ]
  },
  {
   "cell_type": "markdown",
   "metadata": {},
   "source": [
    "## Problem - 34\n",
    "*Define a function which can generate a list where the values are square of numbers between 1 and 20 (both included). Then the function needs to print the first 5 elements in the list.*"
   ]
  },
  {
   "cell_type": "code",
   "execution_count": 18,
   "metadata": {},
   "outputs": [
    {
     "name": "stdout",
     "output_type": "stream",
     "text": [
      "1\n",
      "4\n",
      "9\n",
      "16\n",
      "25\n"
     ]
    }
   ],
   "source": [
    "def my_func():\n",
    "    my_list = [item**2 for item in range(1,21)]\n",
    "    \n",
    "    for val in my_list[:5]:\n",
    "        print(val)\n",
    "\n",
    "my_func()"
   ]
  },
  {
   "cell_type": "markdown",
   "metadata": {},
   "source": [
    "## Problem - 35\n",
    "*Define a function which can generate a list where the values are square of numbers between 1 and 20 (both included). Then the function needs to print the last 5 elements in the list.*"
   ]
  },
  {
   "cell_type": "code",
   "execution_count": 23,
   "metadata": {},
   "outputs": [
    {
     "name": "stdout",
     "output_type": "stream",
     "text": [
      "256\n",
      "289\n",
      "324\n",
      "361\n",
      "400\n"
     ]
    }
   ],
   "source": [
    "def my_func():\n",
    "    my_list = [item**2 for item in range(1,21)]\n",
    "    \n",
    "    for val in my_list[-5:]:\n",
    "        print(val)\n",
    "\n",
    "my_func()"
   ]
  },
  {
   "cell_type": "markdown",
   "metadata": {},
   "source": [
    "## Problem - 36\n",
    "*Define a function which can generate a list where the values are square of numbers between 1 and 20 (both included). Then the function needs to print all values except the first 5 elements in the list.*"
   ]
  },
  {
   "cell_type": "code",
   "execution_count": 25,
   "metadata": {},
   "outputs": [
    {
     "name": "stdout",
     "output_type": "stream",
     "text": [
      "36 49 64 81 100 121 144 169 196 225 256 289 324 361 400 "
     ]
    }
   ],
   "source": [
    "def my_func():\n",
    "    my_list = [item**2 for item in range(1,21)]\n",
    "    \n",
    "    for val in my_list[5:]:\n",
    "        print(val, end=\" \")\n",
    "\n",
    "my_func()"
   ]
  },
  {
   "cell_type": "markdown",
   "metadata": {},
   "source": [
    "## Problem - 37\n",
    "*Define a function which can generate and print a tuple where the value are square of numbers between 1 and 20 (both included).*"
   ]
  },
  {
   "cell_type": "code",
   "execution_count": 28,
   "metadata": {},
   "outputs": [
    {
     "name": "stdout",
     "output_type": "stream",
     "text": [
      "<class 'tuple'>\n",
      "1 4 9 16 25 36 49 64 81 100 121 144 169 196 225 256 289 324 361 400 "
     ]
    }
   ],
   "source": [
    "def my_func():\n",
    "    my_list = tuple((item**2 for item in range(1,21)))\n",
    "    \n",
    "    print(type(my_list))\n",
    "    for val in my_list:\n",
    "        print(val, end=\" \")\n",
    "\n",
    "my_func()"
   ]
  },
  {
   "cell_type": "markdown",
   "metadata": {},
   "source": [
    "## Problem - 38\n",
    "*With a given tuple (1,2,3,4,5,6,7,8,9,10), write a program to print the first half values in one line and the last half values in one line.*"
   ]
  },
  {
   "cell_type": "code",
   "execution_count": 3,
   "metadata": {},
   "outputs": [
    {
     "name": "stdout",
     "output_type": "stream",
     "text": [
      "1 2 3 4 5 \n",
      "6 7 8 9 10 "
     ]
    }
   ],
   "source": [
    "int_tuple = (1,2,3,4,5,6,7,8,9,10)\n",
    "\n",
    "n = len(int_tuple)//2\n",
    "for item in int_tuple[0:n]:\n",
    "    print(item, end=\" \")\n",
    "print()\n",
    "for item in int_tuple[n:]:\n",
    "    print(item, end=\" \")"
   ]
  },
  {
   "cell_type": "markdown",
   "metadata": {},
   "source": [
    "## Problem - 39\n",
    "*Write a program to generate and print another tuple whose values are even numbers in the given tuple (1,2,3,4,5,6,7,8,9,10).*\n"
   ]
  },
  {
   "cell_type": "code",
   "execution_count": 5,
   "metadata": {},
   "outputs": [
    {
     "name": "stdout",
     "output_type": "stream",
     "text": [
      "[2, 4, 6, 8, 10]\n"
     ]
    }
   ],
   "source": [
    "print(list(item for item in int_tuple if item % 2 == 0))"
   ]
  },
  {
   "cell_type": "markdown",
   "metadata": {},
   "source": [
    "## Problem - 40\n",
    "*Write a program which accepts a string as input to print \"Yes\" if the string is \"yes\" or \"YES\" or \"Yes\", otherwise print \"No\".*"
   ]
  },
  {
   "cell_type": "code",
   "execution_count": 8,
   "metadata": {},
   "outputs": [
    {
     "name": "stdin",
     "output_type": "stream",
     "text": [
      " bhukk\n"
     ]
    },
    {
     "name": "stdout",
     "output_type": "stream",
     "text": [
      "No\n"
     ]
    }
   ],
   "source": [
    "ss = input()\n",
    "\n",
    "if ss in [\"yes\",\"YES\",\"Yes\"]:\n",
    "    print(\"Yes\")\n",
    "else:\n",
    "    print(\"No\")"
   ]
  },
  {
   "cell_type": "markdown",
   "metadata": {},
   "source": [
    "## Problem - 41\n",
    "*Write a program which can map() to make a list whose elements are square of elements in [1,2,3,4,5,6,7,8,9,10].*"
   ]
  },
  {
   "cell_type": "code",
   "execution_count": 10,
   "metadata": {},
   "outputs": [
    {
     "name": "stdout",
     "output_type": "stream",
     "text": [
      "[1, 4, 9, 16, 25, 36, 49, 64, 81, 100]\n"
     ]
    }
   ],
   "source": [
    "list1 = list(range(1,11))\n",
    "\n",
    "print(list(map(lambda x:x*x, list1)))"
   ]
  },
  {
   "cell_type": "markdown",
   "metadata": {},
   "source": [
    "## Problem - 42\n",
    "*Write a program which can map() and filter() to make a list whose elements are square of even number in [1,2,3,4,5,6,7,8,9,10].*"
   ]
  },
  {
   "cell_type": "code",
   "execution_count": 13,
   "metadata": {},
   "outputs": [
    {
     "name": "stdout",
     "output_type": "stream",
     "text": [
      "[4, 16, 36, 64, 100]\n"
     ]
    }
   ],
   "source": [
    "list1 = list(range(1,11))\n",
    "\n",
    "new_list = list(filter(lambda x:x%2 == 0, list1))\n",
    "print(list(map(lambda x:x**2, new_list)))"
   ]
  },
  {
   "cell_type": "markdown",
   "metadata": {},
   "source": [
    "## Problem - 43\n",
    "*Write a program which can filter() to make a list whose elements are even number between 1 and 20 (both included).*"
   ]
  },
  {
   "cell_type": "code",
   "execution_count": 14,
   "metadata": {},
   "outputs": [
    {
     "name": "stdout",
     "output_type": "stream",
     "text": [
      "[2, 4, 6, 8, 10, 12, 14, 16, 18, 20]\n"
     ]
    }
   ],
   "source": [
    "print(list(filter(lambda x:x%2 == 0, range(1,21))))"
   ]
  },
  {
   "cell_type": "markdown",
   "metadata": {},
   "source": [
    "## Problem - 44\n",
    "*Write a program which can map() to make a list whose elements are square of numbers between 1 and 20 (both included).*"
   ]
  },
  {
   "cell_type": "code",
   "execution_count": 16,
   "metadata": {},
   "outputs": [
    {
     "name": "stdout",
     "output_type": "stream",
     "text": [
      "[1, 4, 9, 16, 25, 36, 49, 64, 81, 100, 121, 144, 169, 196, 225, 256, 289, 324, 361, 400]\n"
     ]
    }
   ],
   "source": [
    "print(list(map(lambda x:x**2, range(1,21))))"
   ]
  },
  {
   "cell_type": "markdown",
   "metadata": {},
   "source": [
    "## Problem - 45\n",
    "*Define a class named American which has a static method called printNationality.*"
   ]
  },
  {
   "cell_type": "code",
   "execution_count": 18,
   "metadata": {},
   "outputs": [
    {
     "name": "stdout",
     "output_type": "stream",
     "text": [
      "American\n",
      "American\n"
     ]
    }
   ],
   "source": [
    "class American():\n",
    "    \n",
    "    @staticmethod\n",
    "    def printNationality():\n",
    "        return \"American\"\n",
    "\n",
    "c1 = American()\n",
    "print(c1.printNationality())\n",
    "print(American.printNationality())"
   ]
  },
  {
   "cell_type": "markdown",
   "metadata": {},
   "source": [
    "## Problem - 46\n",
    "*Define a class named American and its subclass NewYorker.*"
   ]
  },
  {
   "cell_type": "code",
   "execution_count": 21,
   "metadata": {},
   "outputs": [
    {
     "name": "stdout",
     "output_type": "stream",
     "text": [
      "American\n"
     ]
    }
   ],
   "source": [
    "class American:\n",
    "    @staticmethod\n",
    "    def printNationality():\n",
    "        print(\"American\") \n",
    "\n",
    "class NewYorker(American):\n",
    "    def print_city():\n",
    "        print(\"New York\")\n",
    "\n",
    "ny = NewYorker()\n",
    "ny.printNationality()\n"
   ]
  },
  {
   "cell_type": "code",
   "execution_count": null,
   "metadata": {},
   "outputs": [],
   "source": []
  }
 ],
 "metadata": {
  "kernelspec": {
   "display_name": "Python 3",
   "language": "python",
   "name": "python3"
  },
  "language_info": {
   "codemirror_mode": {
    "name": "ipython",
    "version": 3
   },
   "file_extension": ".py",
   "mimetype": "text/x-python",
   "name": "python",
   "nbconvert_exporter": "python",
   "pygments_lexer": "ipython3",
   "version": "3.8.5"
  }
 },
 "nbformat": 4,
 "nbformat_minor": 4
}
